{
  "nbformat": 4,
  "nbformat_minor": 0,
  "metadata": {
    "colab": {
      "provenance": []
    },
    "kernelspec": {
      "name": "python3",
      "display_name": "Python 3"
    },
    "language_info": {
      "name": "python"
    }
  },
  "cells": [
    {
      "cell_type": "code",
      "execution_count": null,
      "metadata": {
        "id": "S7tN1XWQNPx5"
      },
      "outputs": [],
      "source": [
        "import numpy as np"
      ]
    },
    {
      "cell_type": "code",
      "source": [
        "def min_edit_dist(a: str, b: str) -> int:\n",
        "  if len(a) == 0:\n",
        "    return len(b)\n",
        "  if len(b) == 0:\n",
        "    return len(a)\n",
        "\n",
        "  table = np.zeros((len(a) + 1, len(b) + 1))\n",
        "  table[0, 0] = 0\n",
        "\n",
        "  for i in range(0, len(a) + 1):\n",
        "    for j in range(0, len(b) + 1):\n",
        "      if i == 0:\n",
        "        table[i, j] = j\n",
        "      elif j == 0:\n",
        "        table[i, j] = i\n",
        "      elif a[i - 1] == b[j - 1]:\n",
        "        table[i, j] = table[i - 1, j - 1]\n",
        "      else:\n",
        "        table[i, j] = min(table[i - 1, j] + 1, table[i, j - 1] + 1, table[i - 1, j - 1] + 2)\n",
        "\n",
        "  return int(table[len(a), len(b)])"
      ],
      "metadata": {
        "id": "URVkhFzvNVcO"
      },
      "execution_count": null,
      "outputs": []
    },
    {
      "cell_type": "code",
      "source": [
        "s1 = input(\"Enter first string: \")\n",
        "s2 = input(\"Enter second string: \")\n",
        "min_edit_dist(s1, s2)"
      ],
      "metadata": {
        "colab": {
          "base_uri": "https://localhost:8080/"
        },
        "id": "eBs4T1vJOfnm",
        "outputId": "aaf68202-ef8b-4aaa-c22c-32ee91d04904"
      },
      "execution_count": null,
      "outputs": [
        {
          "name": "stdout",
          "output_type": "stream",
          "text": [
            "Enter first string: aytra\n",
            "Enter second string: ay\n"
          ]
        },
        {
          "output_type": "execute_result",
          "data": {
            "text/plain": [
              "3"
            ]
          },
          "metadata": {},
          "execution_count": 15
        }
      ]
    },
    {
      "cell_type": "code",
      "source": [],
      "metadata": {
        "id": "g-ReLJjYOqVu"
      },
      "execution_count": null,
      "outputs": []
    }
  ]
}