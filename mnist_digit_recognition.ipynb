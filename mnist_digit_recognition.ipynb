{
  "nbformat": 4,
  "nbformat_minor": 0,
  "metadata": {
    "colab": {
      "provenance": []
    },
    "kernelspec": {
      "name": "python3",
      "display_name": "Python 3"
    },
    "language_info": {
      "name": "python"
    },
    "widgets": {
      "application/vnd.jupyter.widget-state+json": {
        "166dc73e6d3242b0be5e7e23ddcf8977": {
          "model_module": "@jupyter-widgets/controls",
          "model_name": "HBoxModel",
          "model_module_version": "1.5.0",
          "state": {
            "_dom_classes": [],
            "_model_module": "@jupyter-widgets/controls",
            "_model_module_version": "1.5.0",
            "_model_name": "HBoxModel",
            "_view_count": null,
            "_view_module": "@jupyter-widgets/controls",
            "_view_module_version": "1.5.0",
            "_view_name": "HBoxView",
            "box_style": "",
            "children": [
              "IPY_MODEL_be4de8d1d7e947a3a4f9a7ccb6007330",
              "IPY_MODEL_8787607f6a2d4188a1d62210a2d2d158",
              "IPY_MODEL_b5819410f8b84219bda523c782006817"
            ],
            "layout": "IPY_MODEL_55fe361918704e4e98f8928dfb6e2dc3"
          }
        },
        "be4de8d1d7e947a3a4f9a7ccb6007330": {
          "model_module": "@jupyter-widgets/controls",
          "model_name": "HTMLModel",
          "model_module_version": "1.5.0",
          "state": {
            "_dom_classes": [],
            "_model_module": "@jupyter-widgets/controls",
            "_model_module_version": "1.5.0",
            "_model_name": "HTMLModel",
            "_view_count": null,
            "_view_module": "@jupyter-widgets/controls",
            "_view_module_version": "1.5.0",
            "_view_name": "HTMLView",
            "description": "",
            "description_tooltip": null,
            "layout": "IPY_MODEL_96e12d17cc3f4e59b7fbef683765573b",
            "placeholder": "​",
            "style": "IPY_MODEL_7a782ba8d8ab43a2900a0627fcfea1c4",
            "value": "Dl Completed...: 100%"
          }
        },
        "8787607f6a2d4188a1d62210a2d2d158": {
          "model_module": "@jupyter-widgets/controls",
          "model_name": "FloatProgressModel",
          "model_module_version": "1.5.0",
          "state": {
            "_dom_classes": [],
            "_model_module": "@jupyter-widgets/controls",
            "_model_module_version": "1.5.0",
            "_model_name": "FloatProgressModel",
            "_view_count": null,
            "_view_module": "@jupyter-widgets/controls",
            "_view_module_version": "1.5.0",
            "_view_name": "ProgressView",
            "bar_style": "success",
            "description": "",
            "description_tooltip": null,
            "layout": "IPY_MODEL_bde580fe1421493089cc5d522eae784f",
            "max": 5,
            "min": 0,
            "orientation": "horizontal",
            "style": "IPY_MODEL_7370db8760c54ca997597c6e9ef83fcb",
            "value": 5
          }
        },
        "b5819410f8b84219bda523c782006817": {
          "model_module": "@jupyter-widgets/controls",
          "model_name": "HTMLModel",
          "model_module_version": "1.5.0",
          "state": {
            "_dom_classes": [],
            "_model_module": "@jupyter-widgets/controls",
            "_model_module_version": "1.5.0",
            "_model_name": "HTMLModel",
            "_view_count": null,
            "_view_module": "@jupyter-widgets/controls",
            "_view_module_version": "1.5.0",
            "_view_name": "HTMLView",
            "description": "",
            "description_tooltip": null,
            "layout": "IPY_MODEL_c9cdba4956a04530ad42115e033ec69b",
            "placeholder": "​",
            "style": "IPY_MODEL_d1d2142855f04a84babe2099700da09a",
            "value": " 5/5 [00:00&lt;00:00,  7.20 file/s]"
          }
        },
        "55fe361918704e4e98f8928dfb6e2dc3": {
          "model_module": "@jupyter-widgets/base",
          "model_name": "LayoutModel",
          "model_module_version": "1.2.0",
          "state": {
            "_model_module": "@jupyter-widgets/base",
            "_model_module_version": "1.2.0",
            "_model_name": "LayoutModel",
            "_view_count": null,
            "_view_module": "@jupyter-widgets/base",
            "_view_module_version": "1.2.0",
            "_view_name": "LayoutView",
            "align_content": null,
            "align_items": null,
            "align_self": null,
            "border": null,
            "bottom": null,
            "display": null,
            "flex": null,
            "flex_flow": null,
            "grid_area": null,
            "grid_auto_columns": null,
            "grid_auto_flow": null,
            "grid_auto_rows": null,
            "grid_column": null,
            "grid_gap": null,
            "grid_row": null,
            "grid_template_areas": null,
            "grid_template_columns": null,
            "grid_template_rows": null,
            "height": null,
            "justify_content": null,
            "justify_items": null,
            "left": null,
            "margin": null,
            "max_height": null,
            "max_width": null,
            "min_height": null,
            "min_width": null,
            "object_fit": null,
            "object_position": null,
            "order": null,
            "overflow": null,
            "overflow_x": null,
            "overflow_y": null,
            "padding": null,
            "right": null,
            "top": null,
            "visibility": null,
            "width": null
          }
        },
        "96e12d17cc3f4e59b7fbef683765573b": {
          "model_module": "@jupyter-widgets/base",
          "model_name": "LayoutModel",
          "model_module_version": "1.2.0",
          "state": {
            "_model_module": "@jupyter-widgets/base",
            "_model_module_version": "1.2.0",
            "_model_name": "LayoutModel",
            "_view_count": null,
            "_view_module": "@jupyter-widgets/base",
            "_view_module_version": "1.2.0",
            "_view_name": "LayoutView",
            "align_content": null,
            "align_items": null,
            "align_self": null,
            "border": null,
            "bottom": null,
            "display": null,
            "flex": null,
            "flex_flow": null,
            "grid_area": null,
            "grid_auto_columns": null,
            "grid_auto_flow": null,
            "grid_auto_rows": null,
            "grid_column": null,
            "grid_gap": null,
            "grid_row": null,
            "grid_template_areas": null,
            "grid_template_columns": null,
            "grid_template_rows": null,
            "height": null,
            "justify_content": null,
            "justify_items": null,
            "left": null,
            "margin": null,
            "max_height": null,
            "max_width": null,
            "min_height": null,
            "min_width": null,
            "object_fit": null,
            "object_position": null,
            "order": null,
            "overflow": null,
            "overflow_x": null,
            "overflow_y": null,
            "padding": null,
            "right": null,
            "top": null,
            "visibility": null,
            "width": null
          }
        },
        "7a782ba8d8ab43a2900a0627fcfea1c4": {
          "model_module": "@jupyter-widgets/controls",
          "model_name": "DescriptionStyleModel",
          "model_module_version": "1.5.0",
          "state": {
            "_model_module": "@jupyter-widgets/controls",
            "_model_module_version": "1.5.0",
            "_model_name": "DescriptionStyleModel",
            "_view_count": null,
            "_view_module": "@jupyter-widgets/base",
            "_view_module_version": "1.2.0",
            "_view_name": "StyleView",
            "description_width": ""
          }
        },
        "bde580fe1421493089cc5d522eae784f": {
          "model_module": "@jupyter-widgets/base",
          "model_name": "LayoutModel",
          "model_module_version": "1.2.0",
          "state": {
            "_model_module": "@jupyter-widgets/base",
            "_model_module_version": "1.2.0",
            "_model_name": "LayoutModel",
            "_view_count": null,
            "_view_module": "@jupyter-widgets/base",
            "_view_module_version": "1.2.0",
            "_view_name": "LayoutView",
            "align_content": null,
            "align_items": null,
            "align_self": null,
            "border": null,
            "bottom": null,
            "display": null,
            "flex": null,
            "flex_flow": null,
            "grid_area": null,
            "grid_auto_columns": null,
            "grid_auto_flow": null,
            "grid_auto_rows": null,
            "grid_column": null,
            "grid_gap": null,
            "grid_row": null,
            "grid_template_areas": null,
            "grid_template_columns": null,
            "grid_template_rows": null,
            "height": null,
            "justify_content": null,
            "justify_items": null,
            "left": null,
            "margin": null,
            "max_height": null,
            "max_width": null,
            "min_height": null,
            "min_width": null,
            "object_fit": null,
            "object_position": null,
            "order": null,
            "overflow": null,
            "overflow_x": null,
            "overflow_y": null,
            "padding": null,
            "right": null,
            "top": null,
            "visibility": null,
            "width": null
          }
        },
        "7370db8760c54ca997597c6e9ef83fcb": {
          "model_module": "@jupyter-widgets/controls",
          "model_name": "ProgressStyleModel",
          "model_module_version": "1.5.0",
          "state": {
            "_model_module": "@jupyter-widgets/controls",
            "_model_module_version": "1.5.0",
            "_model_name": "ProgressStyleModel",
            "_view_count": null,
            "_view_module": "@jupyter-widgets/base",
            "_view_module_version": "1.2.0",
            "_view_name": "StyleView",
            "bar_color": null,
            "description_width": ""
          }
        },
        "c9cdba4956a04530ad42115e033ec69b": {
          "model_module": "@jupyter-widgets/base",
          "model_name": "LayoutModel",
          "model_module_version": "1.2.0",
          "state": {
            "_model_module": "@jupyter-widgets/base",
            "_model_module_version": "1.2.0",
            "_model_name": "LayoutModel",
            "_view_count": null,
            "_view_module": "@jupyter-widgets/base",
            "_view_module_version": "1.2.0",
            "_view_name": "LayoutView",
            "align_content": null,
            "align_items": null,
            "align_self": null,
            "border": null,
            "bottom": null,
            "display": null,
            "flex": null,
            "flex_flow": null,
            "grid_area": null,
            "grid_auto_columns": null,
            "grid_auto_flow": null,
            "grid_auto_rows": null,
            "grid_column": null,
            "grid_gap": null,
            "grid_row": null,
            "grid_template_areas": null,
            "grid_template_columns": null,
            "grid_template_rows": null,
            "height": null,
            "justify_content": null,
            "justify_items": null,
            "left": null,
            "margin": null,
            "max_height": null,
            "max_width": null,
            "min_height": null,
            "min_width": null,
            "object_fit": null,
            "object_position": null,
            "order": null,
            "overflow": null,
            "overflow_x": null,
            "overflow_y": null,
            "padding": null,
            "right": null,
            "top": null,
            "visibility": null,
            "width": null
          }
        },
        "d1d2142855f04a84babe2099700da09a": {
          "model_module": "@jupyter-widgets/controls",
          "model_name": "DescriptionStyleModel",
          "model_module_version": "1.5.0",
          "state": {
            "_model_module": "@jupyter-widgets/controls",
            "_model_module_version": "1.5.0",
            "_model_name": "DescriptionStyleModel",
            "_view_count": null,
            "_view_module": "@jupyter-widgets/base",
            "_view_module_version": "1.2.0",
            "_view_name": "StyleView",
            "description_width": ""
          }
        }
      }
    }
  },
  "cells": [
    {
      "cell_type": "markdown",
      "source": [
        "BT22CSA026 MUHAMMED FAZL OMAR"
      ],
      "metadata": {
        "id": "MsQe0zoOELvE"
      }
    },
    {
      "cell_type": "code",
      "execution_count": null,
      "metadata": {
        "colab": {
          "base_uri": "https://localhost:8080/",
          "height": 101,
          "referenced_widgets": [
            "166dc73e6d3242b0be5e7e23ddcf8977",
            "be4de8d1d7e947a3a4f9a7ccb6007330",
            "8787607f6a2d4188a1d62210a2d2d158",
            "b5819410f8b84219bda523c782006817",
            "55fe361918704e4e98f8928dfb6e2dc3",
            "96e12d17cc3f4e59b7fbef683765573b",
            "7a782ba8d8ab43a2900a0627fcfea1c4",
            "bde580fe1421493089cc5d522eae784f",
            "7370db8760c54ca997597c6e9ef83fcb",
            "c9cdba4956a04530ad42115e033ec69b",
            "d1d2142855f04a84babe2099700da09a"
          ]
        },
        "id": "9cDihy232Mzl",
        "outputId": "fd625ef2-d693-4ded-dae0-670362b9a1e5"
      },
      "outputs": [
        {
          "output_type": "stream",
          "name": "stdout",
          "text": [
            "Downloading and preparing dataset 11.06 MiB (download: 11.06 MiB, generated: 21.00 MiB, total: 32.06 MiB) to /root/tensorflow_datasets/mnist/3.0.1...\n"
          ]
        },
        {
          "output_type": "display_data",
          "data": {
            "text/plain": [
              "Dl Completed...:   0%|          | 0/5 [00:00<?, ? file/s]"
            ],
            "application/vnd.jupyter.widget-view+json": {
              "version_major": 2,
              "version_minor": 0,
              "model_id": "166dc73e6d3242b0be5e7e23ddcf8977"
            }
          },
          "metadata": {}
        },
        {
          "output_type": "stream",
          "name": "stdout",
          "text": [
            "Dataset mnist downloaded and prepared to /root/tensorflow_datasets/mnist/3.0.1. Subsequent calls will reuse this data.\n"
          ]
        },
        {
          "output_type": "execute_result",
          "data": {
            "text/plain": [
              "<_PrefetchDataset element_spec={'image': TensorSpec(shape=(28, 28, 1), dtype=tf.uint8, name=None), 'label': TensorSpec(shape=(), dtype=tf.int64, name=None)}>"
            ]
          },
          "metadata": {},
          "execution_count": 1
        }
      ],
      "source": [
        "import tensorflow as tf\n",
        "import tensorflow_datasets as tfds\n",
        "\n",
        "ds = tfds.load('mnist', split='train', shuffle_files=True)\n",
        "ds"
      ]
    },
    {
      "cell_type": "code",
      "source": [
        "import pandas as pd\n",
        "\n",
        "df = tfds.as_dataframe(ds)"
      ],
      "metadata": {
        "id": "pCqx29OQ7PKO"
      },
      "execution_count": null,
      "outputs": []
    },
    {
      "cell_type": "code",
      "source": [
        "df.head(10)"
      ],
      "metadata": {
        "id": "3HPUkEgW7kUF"
      },
      "execution_count": null,
      "outputs": []
    },
    {
      "cell_type": "code",
      "source": [
        "import tensorflow as tf\n",
        "import tensorflow_datasets as tfds\n",
        "from sklearn.model_selection import train_test_split\n",
        "\n",
        "# Load the MNIST dataset\n",
        "ds_train, ds_info = tfds.load('mnist', split='train', shuffle_files=True, with_info=True)\n",
        "print(\"Total number of samples in the dataset:\", ds_info.splits['train'].num_examples)\n",
        "\n",
        "# Convert dataset to numpy arrays\n",
        "samples = []\n",
        "for sample in ds_train:\n",
        "    image = sample['image'].numpy()\n",
        "    label = sample['label'].numpy()\n",
        "    samples.append((image, label))\n",
        "\n",
        "# Split the dataset into training and validation sets using train_test_split\n",
        "train_samples, val_samples = train_test_split(samples, test_size=0.15, random_state=42)\n",
        "\n",
        "# Extract images and labels from the split samples\n",
        "train_images, train_labels = zip(*train_samples)\n",
        "val_images, val_labels = zip(*val_samples)\n",
        "\n",
        "# Convert images and labels to TensorFlow tensors\n",
        "train_images = tf.convert_to_tensor(train_images, dtype=tf.float32)\n",
        "train_labels = tf.convert_to_tensor(train_labels, dtype=tf.int32)\n",
        "val_images = tf.convert_to_tensor(val_images, dtype=tf.float32)\n",
        "val_labels = tf.convert_to_tensor(val_labels, dtype=tf.int32)\n",
        "\n",
        "# Preprocess the data\n",
        "train_images /= 255.0\n",
        "val_images /= 255.0\n",
        "\n",
        "len(val_images)"
      ],
      "metadata": {
        "colab": {
          "base_uri": "https://localhost:8080/"
        },
        "id": "Rn2ux6b6_-R2",
        "outputId": "1163a024-c589-4f6a-c736-7aa4ad09ed99"
      },
      "execution_count": null,
      "outputs": [
        {
          "output_type": "stream",
          "name": "stdout",
          "text": [
            "Total number of samples in the dataset: 60000\n"
          ]
        },
        {
          "output_type": "execute_result",
          "data": {
            "text/plain": [
              "9000"
            ]
          },
          "metadata": {},
          "execution_count": 10
        }
      ]
    },
    {
      "cell_type": "code",
      "source": [
        "import tensorflow as tf\n",
        "\n",
        "# Define the model\n",
        "model = tf.keras.Sequential([\n",
        "    tf.keras.layers.Conv2D(32, (3, 3), activation='relu', input_shape=(28, 28, 1)),\n",
        "    tf.keras.layers.MaxPooling2D((2, 2)),\n",
        "    tf.keras.layers.Conv2D(64, (3, 3), activation='relu'),\n",
        "    tf.keras.layers.MaxPooling2D((2, 2)),\n",
        "    tf.keras.layers.Conv2D(64, (3, 3), activation='relu'),\n",
        "    tf.keras.layers.Flatten(),\n",
        "    tf.keras.layers.Dense(64, activation='relu'),\n",
        "    tf.keras.layers.Dense(10)\n",
        "])\n",
        "\n",
        "# Compile the model\n",
        "model.compile(optimizer='adam',\n",
        "              loss=tf.keras.losses.SparseCategoricalCrossentropy(from_logits=True),\n",
        "              metrics=['accuracy'])\n",
        "\n",
        "# Train the model\n",
        "history = model.fit(train_images, train_labels, epochs=10, validation_data=(val_images, val_labels))\n",
        "\n",
        "# Save the history\n",
        "history_df = pd.DataFrame(history.history)\n",
        "history_df.to_csv('training_history.csv', index=False)\n",
        "\n",
        "# Plot training vs validation accuracy\n",
        "import matplotlib.pyplot as plt\n",
        "plt.plot(history.history['accuracy'], label='Training Accuracy')\n",
        "plt.plot(history.history['val_accuracy'], label='Validation Accuracy')\n",
        "plt.xlabel('Epoch')\n",
        "plt.ylabel('Accuracy')\n",
        "plt.legend()\n",
        "plt.show()\n"
      ],
      "metadata": {
        "colab": {
          "base_uri": "https://localhost:8080/",
          "height": 796
        },
        "id": "GGNKlfCI8P4l",
        "outputId": "869f3b11-38b8-4e59-9aef-fd8ec5955d79"
      },
      "execution_count": null,
      "outputs": [
        {
          "output_type": "stream",
          "name": "stdout",
          "text": [
            "Epoch 1/10\n",
            "1594/1594 [==============================] - 50s 31ms/step - loss: 0.1637 - accuracy: 0.9498 - val_loss: 0.0697 - val_accuracy: 0.9793\n",
            "Epoch 2/10\n",
            "1594/1594 [==============================] - 47s 30ms/step - loss: 0.0500 - accuracy: 0.9839 - val_loss: 0.0465 - val_accuracy: 0.9853\n",
            "Epoch 3/10\n",
            "1594/1594 [==============================] - 45s 28ms/step - loss: 0.0369 - accuracy: 0.9884 - val_loss: 0.0449 - val_accuracy: 0.9871\n",
            "Epoch 4/10\n",
            "1594/1594 [==============================] - 49s 30ms/step - loss: 0.0275 - accuracy: 0.9914 - val_loss: 0.0340 - val_accuracy: 0.9899\n",
            "Epoch 5/10\n",
            "1594/1594 [==============================] - 45s 28ms/step - loss: 0.0215 - accuracy: 0.9930 - val_loss: 0.0423 - val_accuracy: 0.9892\n",
            "Epoch 6/10\n",
            "1594/1594 [==============================] - 47s 29ms/step - loss: 0.0177 - accuracy: 0.9942 - val_loss: 0.0584 - val_accuracy: 0.9846\n",
            "Epoch 7/10\n",
            "1594/1594 [==============================] - 48s 30ms/step - loss: 0.0151 - accuracy: 0.9951 - val_loss: 0.0361 - val_accuracy: 0.9891\n",
            "Epoch 8/10\n",
            "1594/1594 [==============================] - 50s 31ms/step - loss: 0.0120 - accuracy: 0.9963 - val_loss: 0.0466 - val_accuracy: 0.9874\n",
            "Epoch 9/10\n",
            "1594/1594 [==============================] - 46s 29ms/step - loss: 0.0120 - accuracy: 0.9962 - val_loss: 0.0348 - val_accuracy: 0.9904\n",
            "Epoch 10/10\n",
            "1594/1594 [==============================] - 47s 29ms/step - loss: 0.0083 - accuracy: 0.9973 - val_loss: 0.0482 - val_accuracy: 0.9898\n"
          ]
        },
        {
          "output_type": "display_data",
          "data": {
            "text/plain": [
              "<Figure size 640x480 with 1 Axes>"
            ],
            "image/png": "[encoded data removed]"
          },
          "metadata": {}
        }
      ]
    },
    {
      "cell_type": "code",
      "source": [
        "# Load the MNIST test dataset\n",
        "ds_test = tfds.load('mnist', split='test', shuffle_files=False)\n",
        "\n",
        "# Preprocess the data\n",
        "def preprocess_data(sample):\n",
        "    image = tf.cast(sample['image'], tf.float32) / 255.0\n",
        "    label = sample['label']\n",
        "    return image, label\n",
        "\n",
        "ds_test = ds_test.map(preprocess_data)\n",
        "\n",
        "# Define a function to extract images and labels\n",
        "def extract_images_and_labels(dataset):\n",
        "    images = []\n",
        "    labels = []\n",
        "    for image, label in dataset:\n",
        "        images.append(image)\n",
        "        labels.append(label)\n",
        "    return tf.convert_to_tensor(images), tf.convert_to_tensor(labels)\n",
        "\n",
        "# Extract test images and labels\n",
        "test_images, test_labels = extract_images_and_labels(ds_test)\n",
        "\n",
        "# Evaluate the model on the test dataset\n",
        "test_loss, test_accuracy = model.evaluate(test_images, test_labels)\n",
        "\n",
        "print(\"Test Accuracy:\", test_accuracy)\n"
      ],
      "metadata": {
        "colab": {
          "base_uri": "https://localhost:8080/"
        },
        "id": "2d72EgCN-2Cm",
        "outputId": "0acecd4f-6657-4b58-f8e4-f37812cd9bf1"
      },
      "execution_count": null,
      "outputs": [
        {
          "output_type": "stream",
          "name": "stdout",
          "text": [
            "313/313 [==============================] - 4s 12ms/step - loss: 0.0405 - accuracy: 0.9903\n",
            "Test Accuracy: 0.9902999997138977\n"
          ]
        }
      ]
    },
    {
      "cell_type": "code",
      "source": [],
      "metadata": {
        "id": "5U-I7c7pEjeD"
      },
      "execution_count": null,
      "outputs": []
    }
  ]
}