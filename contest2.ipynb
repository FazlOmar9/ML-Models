{
 "cells": [
  {
   "cell_type": "code",
   "execution_count": 1,
   "id": "ff298699",
   "metadata": {
    "_cell_guid": "b1076dfc-b9ad-4769-8c92-a6c4dae69d19",
    "_uuid": "8f2839f25d086af736a60e9eeb907d3b93b6e0e5",
    "execution": {
     "iopub.execute_input": "2023-03-31T20:19:21.247555Z",
     "iopub.status.busy": "2023-03-31T20:19:21.246652Z",
     "iopub.status.idle": "2023-03-31T20:19:21.260689Z",
     "shell.execute_reply": "2023-03-31T20:19:21.259603Z"
    },
    "papermill": {
     "duration": 0.022732,
     "end_time": "2023-03-31T20:19:21.263486",
     "exception": false,
     "start_time": "2023-03-31T20:19:21.240754",
     "status": "completed"
    },
    "tags": []
   },
   "outputs": [
    {
     "name": "stdout",
     "output_type": "stream",
     "text": [
      "/kaggle/input/playground-series-s3e11/sample_submission.csv\n",
      "/kaggle/input/playground-series-s3e11/train.csv\n",
      "/kaggle/input/playground-series-s3e11/test.csv\n"
     ]
    }
   ],
   "source": [
    "# This Python 3 environment comes with many helpful analytics libraries installed\n",
    "# It is defined by the kaggle/python Docker image: https://github.com/kaggle/docker-python\n",
    "# For example, here's several helpful packages to load\n",
    "\n",
    "import numpy as np # linear algebra\n",
    "import pandas as pd # data processing, CSV file I/O (e.g. pd.read_csv)\n",
    "\n",
    "# Input data files are available in the read-only \"../input/\" directory\n",
    "# For example, running this (by clicking run or pressing Shift+Enter) will list all files under the input directory\n",
    "\n",
    "import os\n",
    "for dirname, _, filenames in os.walk('/kaggle/input'):\n",
    "    for filename in filenames:\n",
    "        print(os.path.join(dirname, filename))\n",
    "\n",
    "# You can write up to 20GB to the current directory (/kaggle/working/) that gets preserved as output when you create a version using \"Save & Run All\" \n",
    "# You can also write temporary files to /kaggle/temp/, but they won't be saved outside of the current session"
   ]
  },
  {
   "cell_type": "markdown",
   "id": "e15f6c30",
   "metadata": {
    "papermill": {
     "duration": 0.002849,
     "end_time": "2023-03-31T20:19:21.269597",
     "exception": false,
     "start_time": "2023-03-31T20:19:21.266748",
     "status": "completed"
    },
    "tags": []
   },
   "source": [
    "# Importing and first hand look at data"
   ]
  },
  {
   "cell_type": "code",
   "execution_count": 2,
   "id": "be2a0e41",
   "metadata": {
    "execution": {
     "iopub.execute_input": "2023-03-31T20:19:21.276932Z",
     "iopub.status.busy": "2023-03-31T20:19:21.276598Z",
     "iopub.status.idle": "2023-03-31T20:19:23.625768Z",
     "shell.execute_reply": "2023-03-31T20:19:23.624643Z"
    },
    "papermill": {
     "duration": 2.355932,
     "end_time": "2023-03-31T20:19:23.628438",
     "exception": false,
     "start_time": "2023-03-31T20:19:21.272506",
     "status": "completed"
    },
    "tags": []
   },
   "outputs": [
    {
     "data": {
      "text/html": [
       "<div>\n",
       "<style scoped>\n",
       "    .dataframe tbody tr th:only-of-type {\n",
       "        vertical-align: middle;\n",
       "    }\n",
       "\n",
       "    .dataframe tbody tr th {\n",
       "        vertical-align: top;\n",
       "    }\n",
       "\n",
       "    .dataframe thead th {\n",
       "        text-align: right;\n",
       "    }\n",
       "</style>\n",
       "<table border=\"1\" class=\"dataframe\">\n",
       "  <thead>\n",
       "    <tr style=\"text-align: right;\">\n",
       "      <th></th>\n",
       "      <th>id</th>\n",
       "      <th>store_sales(in millions)</th>\n",
       "      <th>unit_sales(in millions)</th>\n",
       "      <th>total_children</th>\n",
       "      <th>num_children_at_home</th>\n",
       "      <th>avg_cars_at home(approx).1</th>\n",
       "      <th>gross_weight</th>\n",
       "      <th>recyclable_package</th>\n",
       "      <th>low_fat</th>\n",
       "      <th>units_per_case</th>\n",
       "      <th>store_sqft</th>\n",
       "      <th>coffee_bar</th>\n",
       "      <th>video_store</th>\n",
       "      <th>salad_bar</th>\n",
       "      <th>prepared_food</th>\n",
       "      <th>florist</th>\n",
       "      <th>cost</th>\n",
       "    </tr>\n",
       "  </thead>\n",
       "  <tbody>\n",
       "    <tr>\n",
       "      <th>0</th>\n",
       "      <td>0</td>\n",
       "      <td>8.61</td>\n",
       "      <td>3.0</td>\n",
       "      <td>2.0</td>\n",
       "      <td>2.0</td>\n",
       "      <td>2.0</td>\n",
       "      <td>10.30</td>\n",
       "      <td>1.0</td>\n",
       "      <td>0.0</td>\n",
       "      <td>32.0</td>\n",
       "      <td>36509.0</td>\n",
       "      <td>0.0</td>\n",
       "      <td>0.0</td>\n",
       "      <td>0.0</td>\n",
       "      <td>0.0</td>\n",
       "      <td>0.0</td>\n",
       "      <td>62.09</td>\n",
       "    </tr>\n",
       "    <tr>\n",
       "      <th>1</th>\n",
       "      <td>1</td>\n",
       "      <td>5.00</td>\n",
       "      <td>2.0</td>\n",
       "      <td>4.0</td>\n",
       "      <td>0.0</td>\n",
       "      <td>3.0</td>\n",
       "      <td>6.66</td>\n",
       "      <td>1.0</td>\n",
       "      <td>0.0</td>\n",
       "      <td>1.0</td>\n",
       "      <td>28206.0</td>\n",
       "      <td>1.0</td>\n",
       "      <td>0.0</td>\n",
       "      <td>0.0</td>\n",
       "      <td>0.0</td>\n",
       "      <td>0.0</td>\n",
       "      <td>121.80</td>\n",
       "    </tr>\n",
       "    <tr>\n",
       "      <th>2</th>\n",
       "      <td>2</td>\n",
       "      <td>14.08</td>\n",
       "      <td>4.0</td>\n",
       "      <td>0.0</td>\n",
       "      <td>0.0</td>\n",
       "      <td>3.0</td>\n",
       "      <td>21.30</td>\n",
       "      <td>1.0</td>\n",
       "      <td>0.0</td>\n",
       "      <td>26.0</td>\n",
       "      <td>21215.0</td>\n",
       "      <td>1.0</td>\n",
       "      <td>0.0</td>\n",
       "      <td>0.0</td>\n",
       "      <td>0.0</td>\n",
       "      <td>0.0</td>\n",
       "      <td>83.51</td>\n",
       "    </tr>\n",
       "    <tr>\n",
       "      <th>3</th>\n",
       "      <td>3</td>\n",
       "      <td>4.02</td>\n",
       "      <td>3.0</td>\n",
       "      <td>5.0</td>\n",
       "      <td>0.0</td>\n",
       "      <td>0.0</td>\n",
       "      <td>14.80</td>\n",
       "      <td>0.0</td>\n",
       "      <td>1.0</td>\n",
       "      <td>36.0</td>\n",
       "      <td>21215.0</td>\n",
       "      <td>1.0</td>\n",
       "      <td>0.0</td>\n",
       "      <td>0.0</td>\n",
       "      <td>0.0</td>\n",
       "      <td>0.0</td>\n",
       "      <td>66.78</td>\n",
       "    </tr>\n",
       "    <tr>\n",
       "      <th>4</th>\n",
       "      <td>4</td>\n",
       "      <td>2.13</td>\n",
       "      <td>3.0</td>\n",
       "      <td>5.0</td>\n",
       "      <td>0.0</td>\n",
       "      <td>3.0</td>\n",
       "      <td>17.00</td>\n",
       "      <td>1.0</td>\n",
       "      <td>1.0</td>\n",
       "      <td>20.0</td>\n",
       "      <td>27694.0</td>\n",
       "      <td>1.0</td>\n",
       "      <td>1.0</td>\n",
       "      <td>1.0</td>\n",
       "      <td>1.0</td>\n",
       "      <td>1.0</td>\n",
       "      <td>111.51</td>\n",
       "    </tr>\n",
       "  </tbody>\n",
       "</table>\n",
       "</div>"
      ],
      "text/plain": [
       "   id  store_sales(in millions)  unit_sales(in millions)  total_children  \\\n",
       "0   0                      8.61                      3.0             2.0   \n",
       "1   1                      5.00                      2.0             4.0   \n",
       "2   2                     14.08                      4.0             0.0   \n",
       "3   3                      4.02                      3.0             5.0   \n",
       "4   4                      2.13                      3.0             5.0   \n",
       "\n",
       "   num_children_at_home  avg_cars_at home(approx).1  gross_weight  \\\n",
       "0                   2.0                         2.0         10.30   \n",
       "1                   0.0                         3.0          6.66   \n",
       "2                   0.0                         3.0         21.30   \n",
       "3                   0.0                         0.0         14.80   \n",
       "4                   0.0                         3.0         17.00   \n",
       "\n",
       "   recyclable_package  low_fat  units_per_case  store_sqft  coffee_bar  \\\n",
       "0                 1.0      0.0            32.0     36509.0         0.0   \n",
       "1                 1.0      0.0             1.0     28206.0         1.0   \n",
       "2                 1.0      0.0            26.0     21215.0         1.0   \n",
       "3                 0.0      1.0            36.0     21215.0         1.0   \n",
       "4                 1.0      1.0            20.0     27694.0         1.0   \n",
       "\n",
       "   video_store  salad_bar  prepared_food  florist    cost  \n",
       "0          0.0        0.0            0.0      0.0   62.09  \n",
       "1          0.0        0.0            0.0      0.0  121.80  \n",
       "2          0.0        0.0            0.0      0.0   83.51  \n",
       "3          0.0        0.0            0.0      0.0   66.78  \n",
       "4          1.0        1.0            1.0      1.0  111.51  "
      ]
     },
     "metadata": {},
     "output_type": "display_data"
    }
   ],
   "source": [
    "from sklearn.model_selection import train_test_split as tts\n",
    "train = pd.read_csv(\"/kaggle/input/playground-series-s3e11/train.csv\")\n",
    "test = pd.read_csv(\"/kaggle/input/playground-series-s3e11/test.csv\")\n",
    "display(train.head())\n",
    "test_id = test.id\n",
    "train = train.set_index('id')\n",
    "test = test.set_index('id')\n",
    "y = train.cost\n",
    "X = train.drop('cost', axis=1)\n",
    "train_X, val_X, train_y, val_y = tts(X, y, test_size=0.3)"
   ]
  },
  {
   "cell_type": "markdown",
   "id": "ed2ccc96",
   "metadata": {
    "papermill": {
     "duration": 0.003105,
     "end_time": "2023-03-31T20:19:23.635110",
     "exception": false,
     "start_time": "2023-03-31T20:19:23.632005",
     "status": "completed"
    },
    "tags": []
   },
   "source": [
    "# Import the modules for plotting"
   ]
  },
  {
   "cell_type": "code",
   "execution_count": 3,
   "id": "39b50ebb",
   "metadata": {
    "execution": {
     "iopub.execute_input": "2023-03-31T20:19:23.643188Z",
     "iopub.status.busy": "2023-03-31T20:19:23.642811Z",
     "iopub.status.idle": "2023-03-31T20:19:23.879824Z",
     "shell.execute_reply": "2023-03-31T20:19:23.878771Z"
    },
    "papermill": {
     "duration": 0.244237,
     "end_time": "2023-03-31T20:19:23.882547",
     "exception": false,
     "start_time": "2023-03-31T20:19:23.638310",
     "status": "completed"
    },
    "tags": []
   },
   "outputs": [],
   "source": [
    "import seaborn as sns\n",
    "from matplotlib import pyplot as plt\n",
    "import matplotlib as mpl"
   ]
  },
  {
   "cell_type": "markdown",
   "id": "68947973",
   "metadata": {
    "papermill": {
     "duration": 0.003051,
     "end_time": "2023-03-31T20:19:23.889127",
     "exception": false,
     "start_time": "2023-03-31T20:19:23.886076",
     "status": "completed"
    },
    "tags": []
   },
   "source": [
    "# Adding Early Stopping"
   ]
  },
  {
   "cell_type": "code",
   "execution_count": 4,
   "id": "d59ad774",
   "metadata": {
    "execution": {
     "iopub.execute_input": "2023-03-31T20:19:23.898306Z",
     "iopub.status.busy": "2023-03-31T20:19:23.896634Z",
     "iopub.status.idle": "2023-03-31T20:19:29.949394Z",
     "shell.execute_reply": "2023-03-31T20:19:29.948225Z"
    },
    "papermill": {
     "duration": 6.06002,
     "end_time": "2023-03-31T20:19:29.952428",
     "exception": false,
     "start_time": "2023-03-31T20:19:23.892408",
     "status": "completed"
    },
    "tags": []
   },
   "outputs": [],
   "source": [
    "from tensorflow.keras import callbacks\n",
    "earlystopping = callbacks.EarlyStopping(\n",
    "    min_delta=0.001,\n",
    "    patience=20,\n",
    "    restore_best_weights=True\n",
    ")"
   ]
  },
  {
   "cell_type": "markdown",
   "id": "a650f857",
   "metadata": {
    "papermill": {
     "duration": 0.003138,
     "end_time": "2023-03-31T20:19:29.959018",
     "exception": false,
     "start_time": "2023-03-31T20:19:29.955880",
     "status": "completed"
    },
    "tags": []
   },
   "source": [
    "# Making, compiling and fitting the model using TPUs"
   ]
  },
  {
   "cell_type": "code",
   "execution_count": 5,
   "id": "f926d98a",
   "metadata": {
    "execution": {
     "iopub.execute_input": "2023-03-31T20:19:29.967237Z",
     "iopub.status.busy": "2023-03-31T20:19:29.966508Z",
     "iopub.status.idle": "2023-03-31T20:23:41.386997Z",
     "shell.execute_reply": "2023-03-31T20:23:41.385970Z"
    },
    "papermill": {
     "duration": 251.427099,
     "end_time": "2023-03-31T20:23:41.389260",
     "exception": false,
     "start_time": "2023-03-31T20:19:29.962161",
     "status": "completed"
    },
    "tags": []
   },
   "outputs": [
    {
     "name": "stdout",
     "output_type": "stream",
     "text": [
      "Epoch 1/30\n",
      "1971/1971 [==============================] - 13s 5ms/step - loss: 38.4216 - val_loss: 30.2058\n",
      "Epoch 2/30\n",
      "1971/1971 [==============================] - 7s 4ms/step - loss: 30.3945 - val_loss: 29.8445\n",
      "Epoch 3/30\n",
      "1971/1971 [==============================] - 9s 4ms/step - loss: 29.3192 - val_loss: 28.5720\n",
      "Epoch 4/30\n",
      "1971/1971 [==============================] - 8s 4ms/step - loss: 28.3553 - val_loss: 27.3572\n",
      "Epoch 5/30\n",
      "1971/1971 [==============================] - 9s 4ms/step - loss: 27.7507 - val_loss: 29.3397\n",
      "Epoch 6/30\n",
      "1971/1971 [==============================] - 7s 4ms/step - loss: 27.0655 - val_loss: 26.4082\n",
      "Epoch 7/30\n",
      "1971/1971 [==============================] - 7s 4ms/step - loss: 26.4248 - val_loss: 26.1932\n",
      "Epoch 8/30\n",
      "1971/1971 [==============================] - 7s 4ms/step - loss: 26.1199 - val_loss: 26.1447\n",
      "Epoch 9/30\n",
      "1971/1971 [==============================] - 9s 4ms/step - loss: 25.9894 - val_loss: 26.0165\n",
      "Epoch 10/30\n",
      "1971/1971 [==============================] - 8s 4ms/step - loss: 26.2209 - val_loss: 26.0881\n",
      "Epoch 11/30\n",
      "1971/1971 [==============================] - 7s 4ms/step - loss: 25.9326 - val_loss: 26.0384\n",
      "Epoch 12/30\n",
      "1971/1971 [==============================] - 7s 4ms/step - loss: 25.8739 - val_loss: 25.9149\n",
      "Epoch 13/30\n",
      "1971/1971 [==============================] - 9s 5ms/step - loss: 25.8440 - val_loss: 26.0025\n",
      "Epoch 14/30\n",
      "1971/1971 [==============================] - 9s 4ms/step - loss: 25.8329 - val_loss: 25.8894\n",
      "Epoch 15/30\n",
      "1971/1971 [==============================] - 8s 4ms/step - loss: 25.8060 - val_loss: 25.8802\n",
      "Epoch 16/30\n",
      "1971/1971 [==============================] - 7s 4ms/step - loss: 25.8049 - val_loss: 25.9414\n",
      "Epoch 17/30\n",
      "1971/1971 [==============================] - 9s 5ms/step - loss: 25.7530 - val_loss: 25.9429\n",
      "Epoch 18/30\n",
      "1971/1971 [==============================] - 7s 4ms/step - loss: 25.7482 - val_loss: 25.8099\n",
      "Epoch 19/30\n",
      "1971/1971 [==============================] - 8s 4ms/step - loss: 25.7275 - val_loss: 25.7994\n",
      "Epoch 20/30\n",
      "1971/1971 [==============================] - 8s 4ms/step - loss: 25.7050 - val_loss: 26.3398\n",
      "Epoch 21/30\n",
      "1971/1971 [==============================] - 9s 5ms/step - loss: 25.6727 - val_loss: 25.7253\n",
      "Epoch 22/30\n",
      "1971/1971 [==============================] - 8s 4ms/step - loss: 25.6427 - val_loss: 26.0364\n",
      "Epoch 23/30\n",
      "1971/1971 [==============================] - 8s 4ms/step - loss: 25.6374 - val_loss: 25.8919\n",
      "Epoch 24/30\n",
      "1971/1971 [==============================] - 8s 4ms/step - loss: 25.6042 - val_loss: 25.6541\n",
      "Epoch 25/30\n",
      "1971/1971 [==============================] - 8s 4ms/step - loss: 25.5915 - val_loss: 25.6538\n",
      "Epoch 26/30\n",
      "1971/1971 [==============================] - 9s 4ms/step - loss: 25.5887 - val_loss: 25.6377\n",
      "Epoch 27/30\n",
      "1971/1971 [==============================] - 9s 4ms/step - loss: 25.5781 - val_loss: 25.6465\n",
      "Epoch 28/30\n",
      "1971/1971 [==============================] - 8s 4ms/step - loss: 25.5623 - val_loss: 25.6772\n",
      "Epoch 29/30\n",
      "1971/1971 [==============================] - 7s 4ms/step - loss: 25.5657 - val_loss: 25.6800\n",
      "Epoch 30/30\n",
      "1971/1971 [==============================] - 9s 4ms/step - loss: 25.5573 - val_loss: 25.7209\n",
      "Minimum validation loss: 25.637664794921875\n"
     ]
    },
    {
     "data": {
      "image/png": "[encoded data removed]",
      "text/plain": [
       "<Figure size 640x480 with 1 Axes>"
      ]
     },
     "metadata": {},
     "output_type": "display_data"
    }
   ],
   "source": [
    "import tensorflow as tf\n",
    "from tensorflow import keras\n",
    "from tensorflow.keras import layers\n",
    "\n",
    "# tpu = tf.distribute.cluster_resolver.TPUClusterResolver.connect()\n",
    "# tpu_strategy = tf.distribute.experimental.TPUStrategy(tpu)\n",
    "\n",
    "model = keras.Sequential([\n",
    "    layers.Dense(128, activation='relu', input_shape=[15]),\n",
    "    layers.Dense(128, activation='relu'),\n",
    "    layers.Dense(128, activation='relu'),\n",
    "    layers.Dense(128, activation='relu'),\n",
    "    layers.Dense(1)\n",
    "])\n",
    "\n",
    "model.compile(\n",
    "    optimizer='adam',\n",
    "    loss='mae'\n",
    ")\n",
    "\n",
    "history = model.fit(\n",
    "    train_X, train_y,\n",
    "    validation_data=(val_X, val_y),\n",
    "    batch_size=128,\n",
    "    epochs=30,\n",
    "    callbacks=[earlystopping]\n",
    ")\n",
    "history_df = pd.DataFrame(history.history)\n",
    "history_df.loc[:, ['loss', 'val_loss']].plot();\n",
    "print(\"Minimum validation loss: {}\".format(history_df['val_loss'].min()))"
   ]
  },
  {
   "cell_type": "markdown",
   "id": "eac3349a",
   "metadata": {
    "papermill": {
     "duration": 0.188416,
     "end_time": "2023-03-31T20:23:41.830504",
     "exception": false,
     "start_time": "2023-03-31T20:23:41.642088",
     "status": "completed"
    },
    "tags": []
   },
   "source": [
    "# Predictions"
   ]
  },
  {
   "cell_type": "code",
   "execution_count": 6,
   "id": "e8003fbf",
   "metadata": {
    "execution": {
     "iopub.execute_input": "2023-03-31T20:23:42.211276Z",
     "iopub.status.busy": "2023-03-31T20:23:42.210559Z",
     "iopub.status.idle": "2023-03-31T20:24:02.895071Z",
     "shell.execute_reply": "2023-03-31T20:24:02.894003Z"
    },
    "papermill": {
     "duration": 20.877085,
     "end_time": "2023-03-31T20:24:02.897438",
     "exception": false,
     "start_time": "2023-03-31T20:23:42.020353",
     "status": "completed"
    },
    "tags": []
   },
   "outputs": [
    {
     "name": "stdout",
     "output_type": "stream",
     "text": [
      "7507/7507 [==============================] - 12s 2ms/step\n"
     ]
    },
    {
     "data": {
      "text/html": [
       "<div>\n",
       "<style scoped>\n",
       "    .dataframe tbody tr th:only-of-type {\n",
       "        vertical-align: middle;\n",
       "    }\n",
       "\n",
       "    .dataframe tbody tr th {\n",
       "        vertical-align: top;\n",
       "    }\n",
       "\n",
       "    .dataframe thead th {\n",
       "        text-align: right;\n",
       "    }\n",
       "</style>\n",
       "<table border=\"1\" class=\"dataframe\">\n",
       "  <thead>\n",
       "    <tr style=\"text-align: right;\">\n",
       "      <th></th>\n",
       "      <th>id</th>\n",
       "      <th>cost</th>\n",
       "    </tr>\n",
       "  </thead>\n",
       "  <tbody>\n",
       "    <tr>\n",
       "      <th>0</th>\n",
       "      <td>360336</td>\n",
       "      <td>112.331558</td>\n",
       "    </tr>\n",
       "    <tr>\n",
       "      <th>1</th>\n",
       "      <td>360337</td>\n",
       "      <td>96.199692</td>\n",
       "    </tr>\n",
       "    <tr>\n",
       "      <th>2</th>\n",
       "      <td>360338</td>\n",
       "      <td>96.498642</td>\n",
       "    </tr>\n",
       "    <tr>\n",
       "      <th>3</th>\n",
       "      <td>360339</td>\n",
       "      <td>102.755814</td>\n",
       "    </tr>\n",
       "    <tr>\n",
       "      <th>4</th>\n",
       "      <td>360340</td>\n",
       "      <td>96.797562</td>\n",
       "    </tr>\n",
       "    <tr>\n",
       "      <th>...</th>\n",
       "      <td>...</td>\n",
       "      <td>...</td>\n",
       "    </tr>\n",
       "    <tr>\n",
       "      <th>240219</th>\n",
       "      <td>600555</td>\n",
       "      <td>96.258621</td>\n",
       "    </tr>\n",
       "    <tr>\n",
       "      <th>240220</th>\n",
       "      <td>600556</td>\n",
       "      <td>100.852798</td>\n",
       "    </tr>\n",
       "    <tr>\n",
       "      <th>240221</th>\n",
       "      <td>600557</td>\n",
       "      <td>96.477394</td>\n",
       "    </tr>\n",
       "    <tr>\n",
       "      <th>240222</th>\n",
       "      <td>600558</td>\n",
       "      <td>102.459633</td>\n",
       "    </tr>\n",
       "    <tr>\n",
       "      <th>240223</th>\n",
       "      <td>600559</td>\n",
       "      <td>109.686440</td>\n",
       "    </tr>\n",
       "  </tbody>\n",
       "</table>\n",
       "<p>240224 rows × 2 columns</p>\n",
       "</div>"
      ],
      "text/plain": [
       "            id        cost\n",
       "0       360336  112.331558\n",
       "1       360337   96.199692\n",
       "2       360338   96.498642\n",
       "3       360339  102.755814\n",
       "4       360340   96.797562\n",
       "...        ...         ...\n",
       "240219  600555   96.258621\n",
       "240220  600556  100.852798\n",
       "240221  600557   96.477394\n",
       "240222  600558  102.459633\n",
       "240223  600559  109.686440\n",
       "\n",
       "[240224 rows x 2 columns]"
      ]
     },
     "execution_count": 6,
     "metadata": {},
     "output_type": "execute_result"
    }
   ],
   "source": [
    "vals = model.predict(test)\n",
    "vals = pd.DataFrame(vals)\n",
    "result = pd.merge(test_id, vals, left_index=True, right_index=True)\n",
    "result.columns=['id', 'cost']\n",
    "result"
   ]
  },
  {
   "cell_type": "markdown",
   "id": "4f442952",
   "metadata": {
    "papermill": {
     "duration": 0.203213,
     "end_time": "2023-03-31T20:24:03.303690",
     "exception": false,
     "start_time": "2023-03-31T20:24:03.100477",
     "status": "completed"
    },
    "tags": []
   },
   "source": [
    "# Saving to submission csv"
   ]
  },
  {
   "cell_type": "code",
   "execution_count": 7,
   "id": "7c8b1d17",
   "metadata": {
    "execution": {
     "iopub.execute_input": "2023-03-31T20:24:03.707683Z",
     "iopub.status.busy": "2023-03-31T20:24:03.707316Z",
     "iopub.status.idle": "2023-03-31T20:24:04.070692Z",
     "shell.execute_reply": "2023-03-31T20:24:04.069648Z"
    },
    "papermill": {
     "duration": 0.567667,
     "end_time": "2023-03-31T20:24:04.073409",
     "exception": false,
     "start_time": "2023-03-31T20:24:03.505742",
     "status": "completed"
    },
    "tags": []
   },
   "outputs": [],
   "source": [
    "result.to_csv(\"submission.csv\",index=False)"
   ]
  }
 ],
 "metadata": {
  "kernelspec": {
   "display_name": "Python 3",
   "language": "python",
   "name": "python3"
  },
  "language_info": {
   "codemirror_mode": {
    "name": "ipython",
    "version": 3
   },
   "file_extension": ".py",
   "mimetype": "text/x-python",
   "name": "python",
   "nbconvert_exporter": "python",
   "pygments_lexer": "ipython3",
   "version": "3.7.12"
  },
  "papermill": {
   "default_parameters": {},
   "duration": 294.876775,
   "end_time": "2023-03-31T20:24:07.379212",
   "environment_variables": {},
   "exception": null,
   "input_path": "__notebook__.ipynb",
   "output_path": "__notebook__.ipynb",
   "parameters": {},
   "start_time": "2023-03-31T20:19:12.502437",
   "version": "2.4.0"
  }
 },
 "nbformat": 4,
 "nbformat_minor": 5
}
