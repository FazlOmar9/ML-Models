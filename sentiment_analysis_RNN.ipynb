{
  "nbformat": 4,
  "nbformat_minor": 0,
  "metadata": {
    "colab": {
      "provenance": []
    },
    "kernelspec": {
      "name": "python3",
      "display_name": "Python 3"
    },
    "language_info": {
      "name": "python"
    }
  },
  "cells": [
    {
      "cell_type": "markdown",
      "source": [
        "BT22CSA026 MUHAMMED FAZL OMAR"
      ],
      "metadata": {
        "id": "4mIu5AJAD6NU"
      }
    },
    {
      "cell_type": "code",
      "execution_count": null,
      "metadata": {
        "id": "FAvgnrRw_M_P"
      },
      "outputs": [],
      "source": [
        "import numpy as np\n",
        "from sklearn.model_selection import train_test_split\n",
        "from tensorflow.keras.preprocessing.text import Tokenizer\n",
        "from tensorflow.keras.preprocessing.sequence import pad_sequences\n",
        "from tensorflow.keras.models import Sequential\n",
        "from tensorflow.keras.layers import Embedding, LSTM, Dense\n"
      ]
    },
    {
      "cell_type": "code",
      "source": [
        "import pandas as pd\n",
        "\n",
        "# Assuming your file is named 'data.txt'\n",
        "file_path = '/content/train_150k.txt'\n",
        "\n",
        "# Define column names for the DataFrame\n",
        "column_names = ['Target', 'Sentence']\n",
        "\n",
        "# Read the file into a DataFrame\n",
        "df = pd.read_csv(file_path, sep='\\t', header=None, names=column_names)\n",
        "\n",
        "# Display the DataFrame\n",
        "print(df)"
      ],
      "metadata": {
        "colab": {
          "base_uri": "https://localhost:8080/"
        },
        "id": "nlTVpCde_PHB",
        "outputId": "1b7617c9-f199-4246-dea4-8817c0565375"
      },
      "execution_count": null,
      "outputs": [
        {
          "output_type": "stream",
          "name": "stdout",
          "text": [
            "       Target                                           Sentence\n",
            "0           0  Starting  back at work today   Looks like it'l...\n",
            "1           1  Sugar levels dropping... munchies setting in. ...\n",
            "2           1     @karineb22 yeah!!! have a great summer break! \n",
            "3           1  hannah montana was very good.  now going to re...\n",
            "4           1  @Mayra326 aww, have fun!  I just had my 3D las...\n",
            "...       ...                                                ...\n",
            "40221       0      ahhh dammit, im hungry  are you guys? @clikkk\n",
            "40222       1                     ,  good afternoon twitterers! \n",
            "40223       1  Drinking red bull and gin. I am not drunk but ...\n",
            "40224       1  @PeoplemapsJulie Oh yes I can also get it in a...\n",
            "40225       1             @AnalystAlterEgo One lick? Wow. There \n",
            "\n",
            "[40226 rows x 2 columns]\n"
          ]
        }
      ]
    },
    {
      "cell_type": "code",
      "source": [
        "df['Target'] = df['Target'].astype(int)"
      ],
      "metadata": {
        "id": "SpCgIrxj_eC2"
      },
      "execution_count": null,
      "outputs": []
    },
    {
      "cell_type": "code",
      "source": [
        "# Tokenization\n",
        "max_words = 1000  # Maximum number of words to tokenize\n",
        "max_sequence_length = 50  # Maximum length of sequences\n",
        "\n",
        "tokenizer = Tokenizer(num_words=max_words)\n",
        "tokenizer.fit_on_texts(df['Sentence'])\n",
        "sequences = tokenizer.texts_to_sequences(df['Sentence'])\n",
        "\n",
        "word_index = tokenizer.word_index\n",
        "print('Found %s unique tokens.' % len(word_index))\n",
        "\n",
        "# Padding sequences\n",
        "data = pad_sequences(sequences, maxlen=max_sequence_length)\n",
        "labels = np.array(df['Target'])\n",
        "\n",
        "print('Shape of data tensor:', data.shape)\n",
        "print('Shape of label tensor:', labels.shape)"
      ],
      "metadata": {
        "colab": {
          "base_uri": "https://localhost:8080/"
        },
        "id": "VAnn3non_iNc",
        "outputId": "b4e1901e-67ef-4a46-c673-87592254afa1"
      },
      "execution_count": null,
      "outputs": [
        {
          "output_type": "stream",
          "name": "stdout",
          "text": [
            "Found 51825 unique tokens.\n",
            "Shape of data tensor: (40226, 50)\n",
            "Shape of label tensor: (40226,)\n"
          ]
        }
      ]
    },
    {
      "cell_type": "code",
      "source": [
        "data"
      ],
      "metadata": {
        "colab": {
          "base_uri": "https://localhost:8080/"
        },
        "id": "SOQZacFz_xLu",
        "outputId": "b65b6549-0820-4439-d704-5fb9664a12cd"
      },
      "execution_count": null,
      "outputs": [
        {
          "output_type": "execute_result",
          "data": {
            "text/plain": [
              "array([[  0,   0,   0, ..., 686,  12, 158],\n",
              "       [  0,   0,   0, ..., 788,  11,   3],\n",
              "       [  0,   0,   0, ...,  98, 253, 549],\n",
              "       ...,\n",
              "       [  0,   0,   0, ..., 342,   4, 562],\n",
              "       [  0,   0,   0, ...,  52, 122, 280],\n",
              "       [  0,   0,   0, ...,  52, 231,  87]], dtype=int32)"
            ]
          },
          "metadata": {},
          "execution_count": 7
        }
      ]
    },
    {
      "cell_type": "code",
      "source": [
        "from sklearn.model_selection import train_test_split\n",
        "\n",
        "# Train-test split\n",
        "X_train, X_test, y_train, y_test = train_test_split(data, labels, test_size=0.2, random_state=42)\n",
        "\n",
        "\n",
        "# Define the model architecture\n",
        "model = Sequential([\n",
        "    Embedding(max_words, 100, input_length=max_sequence_length),\n",
        "    LSTM(64, dropout=0.2, recurrent_dropout=0.2),\n",
        "    Dense(20, activation='relu'),\n",
        "    Dense(10, activation='relu'),\n",
        "    Dense(10, activation='relu'),\n",
        "    Dense(5, activation='relu'),\n",
        "    Dense(1, activation='sigmoid')\n",
        "])\n",
        "\n",
        "# Compile the model\n",
        "model.compile(optimizer='adam', loss='binary_crossentropy', metrics=['accuracy'])\n",
        "\n",
        "print(model.summary())\n",
        "\n",
        "# Train the model\n",
        "model.fit(X_train, y_train, batch_size=32, epochs=10, validation_data=(X_test, y_test))\n",
        "\n",
        "# Evaluate the model\n",
        "loss, accuracy = model.evaluate(X_test, y_test)\n",
        "print(\"Test Loss:\", loss)\n",
        "print(\"Test Accuracy:\", accuracy)"
      ],
      "metadata": {
        "colab": {
          "base_uri": "https://localhost:8080/"
        },
        "id": "qVuxFhB1_9Vl",
        "outputId": "689c1153-f083-4e7f-f183-5d47a548f38c"
      },
      "execution_count": null,
      "outputs": [
        {
          "output_type": "stream",
          "name": "stdout",
          "text": [
            "Model: \"sequential\"\n",
            "_________________________________________________________________\n",
            " Layer (type)                Output Shape              Param #   \n",
            "=================================================================\n",
            " embedding (Embedding)       (None, 50, 100)           100000    \n",
            "                                                                 \n",
            " lstm (LSTM)                 (None, 64)                42240     \n",
            "                                                                 \n",
            " dense (Dense)               (None, 20)                1300      \n",
            "                                                                 \n",
            " dense_1 (Dense)             (None, 10)                210       \n",
            "                                                                 \n",
            " dense_2 (Dense)             (None, 10)                110       \n",
            "                                                                 \n",
            " dense_3 (Dense)             (None, 5)                 55        \n",
            "                                                                 \n",
            " dense_4 (Dense)             (None, 1)                 6         \n",
            "                                                                 \n",
            "=================================================================\n",
            "Total params: 143921 (562.19 KB)\n",
            "Trainable params: 143921 (562.19 KB)\n",
            "Non-trainable params: 0 (0.00 Byte)\n",
            "_________________________________________________________________\n",
            "None\n",
            "Epoch 1/10\n",
            "1006/1006 [==============================] - 94s 88ms/step - loss: 0.5544 - accuracy: 0.7133 - val_loss: 0.4938 - val_accuracy: 0.7595\n",
            "Epoch 2/10\n",
            "1006/1006 [==============================] - 88s 87ms/step - loss: 0.4858 - accuracy: 0.7654 - val_loss: 0.4838 - val_accuracy: 0.7580\n",
            "Epoch 3/10\n",
            "1006/1006 [==============================] - 88s 87ms/step - loss: 0.4669 - accuracy: 0.7736 - val_loss: 0.4773 - val_accuracy: 0.7637\n",
            "Epoch 4/10\n",
            "1006/1006 [==============================] - 90s 89ms/step - loss: 0.4512 - accuracy: 0.7848 - val_loss: 0.4814 - val_accuracy: 0.7593\n",
            "Epoch 5/10\n",
            "1006/1006 [==============================] - 89s 89ms/step - loss: 0.4383 - accuracy: 0.7892 - val_loss: 0.4814 - val_accuracy: 0.7619\n",
            "Epoch 6/10\n",
            "1006/1006 [==============================] - 85s 84ms/step - loss: 0.4277 - accuracy: 0.7966 - val_loss: 0.4912 - val_accuracy: 0.7492\n",
            "Epoch 7/10\n",
            "1006/1006 [==============================] - 88s 87ms/step - loss: 0.4157 - accuracy: 0.8021 - val_loss: 0.5025 - val_accuracy: 0.7585\n",
            "Epoch 8/10\n",
            "1006/1006 [==============================] - 87s 87ms/step - loss: 0.4076 - accuracy: 0.8072 - val_loss: 0.5064 - val_accuracy: 0.7487\n",
            "Epoch 9/10\n",
            "1006/1006 [==============================] - 84s 84ms/step - loss: 0.3939 - accuracy: 0.8164 - val_loss: 0.5135 - val_accuracy: 0.7622\n",
            "Epoch 10/10\n",
            "1006/1006 [==============================] - 87s 86ms/step - loss: 0.3833 - accuracy: 0.8194 - val_loss: 0.5250 - val_accuracy: 0.7558\n",
            "252/252 [==============================] - 4s 16ms/step - loss: 0.5250 - accuracy: 0.7558\n",
            "Test Loss: 0.5250335931777954\n",
            "Test Accuracy: 0.7557792663574219\n"
          ]
        }
      ]
    },
    {
      "cell_type": "code",
      "source": [],
      "metadata": {
        "id": "dQMI5XBQCcRg"
      },
      "execution_count": null,
      "outputs": []
    }
  ]
}