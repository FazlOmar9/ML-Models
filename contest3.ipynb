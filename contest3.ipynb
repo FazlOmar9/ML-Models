{
 "cells": [
  {
   "cell_type": "code",
   "execution_count": 1,
   "id": "900ef38c",
   "metadata": {
    "_cell_guid": "b1076dfc-b9ad-4769-8c92-a6c4dae69d19",
    "_uuid": "8f2839f25d086af736a60e9eeb907d3b93b6e0e5",
    "execution": {
     "iopub.execute_input": "2023-04-04T19:16:51.336922Z",
     "iopub.status.busy": "2023-04-04T19:16:51.336348Z",
     "iopub.status.idle": "2023-04-04T19:16:51.354471Z",
     "shell.execute_reply": "2023-04-04T19:16:51.353131Z"
    },
    "papermill": {
     "duration": 0.02887,
     "end_time": "2023-04-04T19:16:51.357227",
     "exception": false,
     "start_time": "2023-04-04T19:16:51.328357",
     "status": "completed"
    },
    "tags": []
   },
   "outputs": [
    {
     "name": "stdout",
     "output_type": "stream",
     "text": [
      "/kaggle/input/playground-series-s3e12/sample_submission.csv\n",
      "/kaggle/input/playground-series-s3e12/train.csv\n",
      "/kaggle/input/playground-series-s3e12/test.csv\n"
     ]
    }
   ],
   "source": [
    "# This Python 3 environment comes with many helpful analytics libraries installed\n",
    "# It is defined by the kaggle/python Docker image: https://github.com/kaggle/docker-python\n",
    "# For example, here's several helpful packages to load\n",
    "\n",
    "import numpy as np # linear algebra\n",
    "import pandas as pd # data processing, CSV file I/O (e.g. pd.read_csv)\n",
    "\n",
    "# Input data files are available in the read-only \"../input/\" directory\n",
    "# For example, running this (by clicking run or pressing Shift+Enter) will list all files under the input directory\n",
    "\n",
    "import os\n",
    "for dirname, _, filenames in os.walk('/kaggle/input'):\n",
    "    for filename in filenames:\n",
    "        print(os.path.join(dirname, filename))\n",
    "\n",
    "# You can write up to 20GB to the current directory (/kaggle/working/) that gets preserved as output when you create a version using \"Save & Run All\" \n",
    "# You can also write temporary files to /kaggle/temp/, but they won't be saved outside of the current session"
   ]
  },
  {
   "cell_type": "markdown",
   "id": "ff8f2055",
   "metadata": {
    "papermill": {
     "duration": 0.004129,
     "end_time": "2023-04-04T19:16:51.366161",
     "exception": false,
     "start_time": "2023-04-04T19:16:51.362032",
     "status": "completed"
    },
    "tags": []
   },
   "source": [
    "# Import the data"
   ]
  },
  {
   "cell_type": "code",
   "execution_count": 2,
   "id": "5bee21cf",
   "metadata": {
    "execution": {
     "iopub.execute_input": "2023-04-04T19:16:51.377326Z",
     "iopub.status.busy": "2023-04-04T19:16:51.376927Z",
     "iopub.status.idle": "2023-04-04T19:16:52.636763Z",
     "shell.execute_reply": "2023-04-04T19:16:52.635724Z"
    },
    "papermill": {
     "duration": 1.268941,
     "end_time": "2023-04-04T19:16:52.639841",
     "exception": false,
     "start_time": "2023-04-04T19:16:51.370900",
     "status": "completed"
    },
    "tags": []
   },
   "outputs": [
    {
     "data": {
      "text/html": [
       "<div>\n",
       "<style scoped>\n",
       "    .dataframe tbody tr th:only-of-type {\n",
       "        vertical-align: middle;\n",
       "    }\n",
       "\n",
       "    .dataframe tbody tr th {\n",
       "        vertical-align: top;\n",
       "    }\n",
       "\n",
       "    .dataframe thead th {\n",
       "        text-align: right;\n",
       "    }\n",
       "</style>\n",
       "<table border=\"1\" class=\"dataframe\">\n",
       "  <thead>\n",
       "    <tr style=\"text-align: right;\">\n",
       "      <th></th>\n",
       "      <th>gravity</th>\n",
       "      <th>ph</th>\n",
       "      <th>osmo</th>\n",
       "      <th>cond</th>\n",
       "      <th>urea</th>\n",
       "      <th>calc</th>\n",
       "      <th>target</th>\n",
       "    </tr>\n",
       "    <tr>\n",
       "      <th>id</th>\n",
       "      <th></th>\n",
       "      <th></th>\n",
       "      <th></th>\n",
       "      <th></th>\n",
       "      <th></th>\n",
       "      <th></th>\n",
       "      <th></th>\n",
       "    </tr>\n",
       "  </thead>\n",
       "  <tbody>\n",
       "    <tr>\n",
       "      <th>0</th>\n",
       "      <td>1.013</td>\n",
       "      <td>6.19</td>\n",
       "      <td>443</td>\n",
       "      <td>14.8</td>\n",
       "      <td>124</td>\n",
       "      <td>1.45</td>\n",
       "      <td>0</td>\n",
       "    </tr>\n",
       "    <tr>\n",
       "      <th>1</th>\n",
       "      <td>1.025</td>\n",
       "      <td>5.40</td>\n",
       "      <td>703</td>\n",
       "      <td>23.6</td>\n",
       "      <td>394</td>\n",
       "      <td>4.18</td>\n",
       "      <td>0</td>\n",
       "    </tr>\n",
       "    <tr>\n",
       "      <th>2</th>\n",
       "      <td>1.009</td>\n",
       "      <td>6.13</td>\n",
       "      <td>371</td>\n",
       "      <td>24.5</td>\n",
       "      <td>159</td>\n",
       "      <td>9.04</td>\n",
       "      <td>0</td>\n",
       "    </tr>\n",
       "    <tr>\n",
       "      <th>3</th>\n",
       "      <td>1.021</td>\n",
       "      <td>4.91</td>\n",
       "      <td>442</td>\n",
       "      <td>20.8</td>\n",
       "      <td>398</td>\n",
       "      <td>6.63</td>\n",
       "      <td>1</td>\n",
       "    </tr>\n",
       "    <tr>\n",
       "      <th>4</th>\n",
       "      <td>1.021</td>\n",
       "      <td>5.53</td>\n",
       "      <td>874</td>\n",
       "      <td>17.8</td>\n",
       "      <td>385</td>\n",
       "      <td>2.21</td>\n",
       "      <td>1</td>\n",
       "    </tr>\n",
       "  </tbody>\n",
       "</table>\n",
       "</div>"
      ],
      "text/plain": [
       "    gravity    ph  osmo  cond  urea  calc  target\n",
       "id                                               \n",
       "0     1.013  6.19   443  14.8   124  1.45       0\n",
       "1     1.025  5.40   703  23.6   394  4.18       0\n",
       "2     1.009  6.13   371  24.5   159  9.04       0\n",
       "3     1.021  4.91   442  20.8   398  6.63       1\n",
       "4     1.021  5.53   874  17.8   385  2.21       1"
      ]
     },
     "metadata": {},
     "output_type": "display_data"
    }
   ],
   "source": [
    "from sklearn.model_selection import train_test_split as tts\n",
    "train = pd.read_csv(\"/kaggle/input/playground-series-s3e12/train.csv\")\n",
    "test = pd.read_csv(\"/kaggle/input/playground-series-s3e12/test.csv\")\n",
    "test_id = test.id\n",
    "train = train.set_index('id')\n",
    "test = test.set_index('id')\n",
    "display(train.head())\n",
    "y = train['target']\n",
    "X = train.drop('target', axis=1)\n",
    "X_train, X_valid, y_train, y_valid = tts(X, y, test_size=0.2)"
   ]
  },
  {
   "cell_type": "markdown",
   "id": "bcc3dd7a",
   "metadata": {
    "papermill": {
     "duration": 0.006328,
     "end_time": "2023-04-04T19:16:52.653255",
     "exception": false,
     "start_time": "2023-04-04T19:16:52.646927",
     "status": "completed"
    },
    "tags": []
   },
   "source": [
    "# Data Visualization"
   ]
  },
  {
   "cell_type": "code",
   "execution_count": 3,
   "id": "476d8dae",
   "metadata": {
    "execution": {
     "iopub.execute_input": "2023-04-04T19:16:52.664769Z",
     "iopub.status.busy": "2023-04-04T19:16:52.664309Z",
     "iopub.status.idle": "2023-04-04T19:16:53.236505Z",
     "shell.execute_reply": "2023-04-04T19:16:53.235586Z"
    },
    "papermill": {
     "duration": 0.580785,
     "end_time": "2023-04-04T19:16:53.238918",
     "exception": false,
     "start_time": "2023-04-04T19:16:52.658133",
     "status": "completed"
    },
    "tags": []
   },
   "outputs": [
    {
     "data": {
      "text/plain": [
       "<AxesSubplot:xlabel='target', ylabel='calc'>"
      ]
     },
     "metadata": {},
     "output_type": "display_data"
    },
    {
     "data": {
      "image/png": "[encoded data removed]",
      "text/plain": [
       "<Figure size 200x200 with 1 Axes>"
      ]
     },
     "metadata": {},
     "output_type": "display_data"
    }
   ],
   "source": [
    "import matplotlib.pyplot as plt\n",
    "import seaborn as sns\n",
    "plt.figure(figsize=(2, 2))\n",
    "display(sns.barplot(data=train, y='calc', x='target'))"
   ]
  },
  {
   "cell_type": "code",
   "execution_count": 4,
   "id": "44d28c98",
   "metadata": {
    "execution": {
     "iopub.execute_input": "2023-04-04T19:16:53.251075Z",
     "iopub.status.busy": "2023-04-04T19:16:53.250615Z",
     "iopub.status.idle": "2023-04-04T19:16:53.470914Z",
     "shell.execute_reply": "2023-04-04T19:16:53.469696Z"
    },
    "papermill": {
     "duration": 0.229357,
     "end_time": "2023-04-04T19:16:53.473485",
     "exception": false,
     "start_time": "2023-04-04T19:16:53.244128",
     "status": "completed"
    },
    "tags": []
   },
   "outputs": [
    {
     "data": {
      "text/plain": [
       "<AxesSubplot:xlabel='target', ylabel='urea'>"
      ]
     },
     "metadata": {},
     "output_type": "display_data"
    },
    {
     "data": {
      "image/png": "[encoded data removed]",
      "text/plain": [
       "<Figure size 200x200 with 1 Axes>"
      ]
     },
     "metadata": {},
     "output_type": "display_data"
    }
   ],
   "source": [
    "plt.figure(figsize=(2, 2))\n",
    "display(sns.barplot(data=train, y='urea', x='target'))"
   ]
  },
  {
   "cell_type": "code",
   "execution_count": 5,
   "id": "b4604194",
   "metadata": {
    "execution": {
     "iopub.execute_input": "2023-04-04T19:16:53.486081Z",
     "iopub.status.busy": "2023-04-04T19:16:53.485624Z",
     "iopub.status.idle": "2023-04-04T19:16:53.715157Z",
     "shell.execute_reply": "2023-04-04T19:16:53.713497Z"
    },
    "papermill": {
     "duration": 0.23949,
     "end_time": "2023-04-04T19:16:53.718325",
     "exception": false,
     "start_time": "2023-04-04T19:16:53.478835",
     "status": "completed"
    },
    "tags": []
   },
   "outputs": [
    {
     "data": {
      "text/plain": [
       "<AxesSubplot:xlabel='target', ylabel='cond'>"
      ]
     },
     "metadata": {},
     "output_type": "display_data"
    },
    {
     "data": {
      "image/png": "[encoded data removed]",
      "text/plain": [
       "<Figure size 200x200 with 1 Axes>"
      ]
     },
     "metadata": {},
     "output_type": "display_data"
    }
   ],
   "source": [
    "plt.figure(figsize=(2, 2))\n",
    "display(sns.barplot(data=train, y='cond', x='target'))"
   ]
  },
  {
   "cell_type": "code",
   "execution_count": 6,
   "id": "21ccbf57",
   "metadata": {
    "execution": {
     "iopub.execute_input": "2023-04-04T19:16:53.732064Z",
     "iopub.status.busy": "2023-04-04T19:16:53.731645Z",
     "iopub.status.idle": "2023-04-04T19:16:53.961349Z",
     "shell.execute_reply": "2023-04-04T19:16:53.960049Z"
    },
    "papermill": {
     "duration": 0.239912,
     "end_time": "2023-04-04T19:16:53.964072",
     "exception": false,
     "start_time": "2023-04-04T19:16:53.724160",
     "status": "completed"
    },
    "tags": []
   },
   "outputs": [
    {
     "data": {
      "text/plain": [
       "<AxesSubplot:xlabel='target', ylabel='osmo'>"
      ]
     },
     "metadata": {},
     "output_type": "display_data"
    },
    {
     "data": {
      "image/png": "[encoded data removed]",
      "text/plain": [
       "<Figure size 200x200 with 1 Axes>"
      ]
     },
     "metadata": {},
     "output_type": "display_data"
    }
   ],
   "source": [
    "plt.figure(figsize=(2, 2))\n",
    "display(sns.barplot(data=train, y='osmo', x='target'))"
   ]
  },
  {
   "cell_type": "code",
   "execution_count": 7,
   "id": "8a4d3430",
   "metadata": {
    "execution": {
     "iopub.execute_input": "2023-04-04T19:16:53.978999Z",
     "iopub.status.busy": "2023-04-04T19:16:53.977633Z",
     "iopub.status.idle": "2023-04-04T19:16:54.197743Z",
     "shell.execute_reply": "2023-04-04T19:16:54.196543Z"
    },
    "papermill": {
     "duration": 0.230023,
     "end_time": "2023-04-04T19:16:54.200280",
     "exception": false,
     "start_time": "2023-04-04T19:16:53.970257",
     "status": "completed"
    },
    "tags": []
   },
   "outputs": [
    {
     "data": {
      "text/plain": [
       "<AxesSubplot:xlabel='target', ylabel='ph'>"
      ]
     },
     "metadata": {},
     "output_type": "display_data"
    },
    {
     "data": {
      "image/png": "[encoded data removed]",
      "text/plain": [
       "<Figure size 200x200 with 1 Axes>"
      ]
     },
     "metadata": {},
     "output_type": "display_data"
    }
   ],
   "source": [
    "plt.figure(figsize=(2, 2))\n",
    "display(sns.barplot(data=train, y='ph', x='target'))"
   ]
  },
  {
   "cell_type": "markdown",
   "id": "8c3f45cc",
   "metadata": {
    "papermill": {
     "duration": 0.006,
     "end_time": "2023-04-04T19:16:54.212571",
     "exception": false,
     "start_time": "2023-04-04T19:16:54.206571",
     "status": "completed"
    },
    "tags": []
   },
   "source": [
    "# Checking for none vals"
   ]
  },
  {
   "cell_type": "code",
   "execution_count": 8,
   "id": "d8e67069",
   "metadata": {
    "execution": {
     "iopub.execute_input": "2023-04-04T19:16:54.227546Z",
     "iopub.status.busy": "2023-04-04T19:16:54.226212Z",
     "iopub.status.idle": "2023-04-04T19:16:54.235847Z",
     "shell.execute_reply": "2023-04-04T19:16:54.234774Z"
    },
    "papermill": {
     "duration": 0.019737,
     "end_time": "2023-04-04T19:16:54.238395",
     "exception": false,
     "start_time": "2023-04-04T19:16:54.218658",
     "status": "completed"
    },
    "tags": []
   },
   "outputs": [
    {
     "data": {
      "text/plain": [
       "gravity    0\n",
       "ph         0\n",
       "osmo       0\n",
       "cond       0\n",
       "urea       0\n",
       "calc       0\n",
       "target     0\n",
       "dtype: int64"
      ]
     },
     "execution_count": 8,
     "metadata": {},
     "output_type": "execute_result"
    }
   ],
   "source": [
    "train.isnull().sum()\n",
    "# note there aren't any categorical values either hence there is no need of preprocessing"
   ]
  },
  {
   "cell_type": "markdown",
   "id": "88e22894",
   "metadata": {
    "papermill": {
     "duration": 0.005858,
     "end_time": "2023-04-04T19:16:54.250816",
     "exception": false,
     "start_time": "2023-04-04T19:16:54.244958",
     "status": "completed"
    },
    "tags": []
   },
   "source": [
    "# Making the model"
   ]
  },
  {
   "cell_type": "code",
   "execution_count": 9,
   "id": "b06ef7b6",
   "metadata": {
    "execution": {
     "iopub.execute_input": "2023-04-04T19:16:54.265272Z",
     "iopub.status.busy": "2023-04-04T19:16:54.264752Z",
     "iopub.status.idle": "2023-04-04T19:16:54.556336Z",
     "shell.execute_reply": "2023-04-04T19:16:54.554971Z"
    },
    "papermill": {
     "duration": 0.301844,
     "end_time": "2023-04-04T19:16:54.558858",
     "exception": false,
     "start_time": "2023-04-04T19:16:54.257014",
     "status": "completed"
    },
    "tags": []
   },
   "outputs": [
    {
     "name": "stdout",
     "output_type": "stream",
     "text": [
      "Accuracy for 5 is 0.7831325301204819\n",
      "Accuracy for 10 is 0.6867469879518072\n",
      "Accuracy for 50 is 0.6626506024096386\n",
      "Accuracy for 100 is 0.6626506024096386\n",
      "Accuracy for 500 is 0.6144578313253012\n",
      "Accuracy for 1000 is 0.6626506024096386\n",
      "Accuracy for 5000 is 0.6385542168674698\n"
     ]
    }
   ],
   "source": [
    "from sklearn.tree import DecisionTreeClassifier as dtc\n",
    "from sklearn.metrics import accuracy_score\n",
    "def find_acc(max_nodes, X_train=X_train, X_valid=X_valid, y_train=y_train, y_valid=y_valid):\n",
    "    model = dtc(max_leaf_nodes=max_nodes)\n",
    "    model.fit(X_train, y_train)\n",
    "    preds = model.predict(X_valid)\n",
    "    acc = accuracy_score(y_valid, preds)\n",
    "    return acc\n",
    "for nodes in [5, 10, 50, 100, 500, 1000, 5000]:\n",
    "    print(f\"Accuracy for {nodes} is {find_acc(nodes)}\")"
   ]
  },
  {
   "cell_type": "markdown",
   "id": "adb2187f",
   "metadata": {
    "papermill": {
     "duration": 0.006294,
     "end_time": "2023-04-04T19:16:54.572001",
     "exception": false,
     "start_time": "2023-04-04T19:16:54.565707",
     "status": "completed"
    },
    "tags": []
   },
   "source": [
    "* Clearly the model is more accurate with 10 as max nodes\n",
    "* Now we feed the entire training data to the model to improve accuracy"
   ]
  },
  {
   "cell_type": "code",
   "execution_count": 10,
   "id": "828afa17",
   "metadata": {
    "execution": {
     "iopub.execute_input": "2023-04-04T19:16:54.586556Z",
     "iopub.status.busy": "2023-04-04T19:16:54.586095Z",
     "iopub.status.idle": "2023-04-04T19:16:54.613976Z",
     "shell.execute_reply": "2023-04-04T19:16:54.612658Z"
    },
    "papermill": {
     "duration": 0.038755,
     "end_time": "2023-04-04T19:16:54.617073",
     "exception": false,
     "start_time": "2023-04-04T19:16:54.578318",
     "status": "completed"
    },
    "tags": []
   },
   "outputs": [
    {
     "data": {
      "text/html": [
       "<div>\n",
       "<style scoped>\n",
       "    .dataframe tbody tr th:only-of-type {\n",
       "        vertical-align: middle;\n",
       "    }\n",
       "\n",
       "    .dataframe tbody tr th {\n",
       "        vertical-align: top;\n",
       "    }\n",
       "\n",
       "    .dataframe thead th {\n",
       "        text-align: right;\n",
       "    }\n",
       "</style>\n",
       "<table border=\"1\" class=\"dataframe\">\n",
       "  <thead>\n",
       "    <tr style=\"text-align: right;\">\n",
       "      <th></th>\n",
       "      <th>id</th>\n",
       "      <th>target</th>\n",
       "    </tr>\n",
       "  </thead>\n",
       "  <tbody>\n",
       "    <tr>\n",
       "      <th>0</th>\n",
       "      <td>414</td>\n",
       "      <td>0</td>\n",
       "    </tr>\n",
       "    <tr>\n",
       "      <th>1</th>\n",
       "      <td>415</td>\n",
       "      <td>0</td>\n",
       "    </tr>\n",
       "    <tr>\n",
       "      <th>2</th>\n",
       "      <td>416</td>\n",
       "      <td>1</td>\n",
       "    </tr>\n",
       "    <tr>\n",
       "      <th>3</th>\n",
       "      <td>417</td>\n",
       "      <td>0</td>\n",
       "    </tr>\n",
       "    <tr>\n",
       "      <th>4</th>\n",
       "      <td>418</td>\n",
       "      <td>0</td>\n",
       "    </tr>\n",
       "    <tr>\n",
       "      <th>...</th>\n",
       "      <td>...</td>\n",
       "      <td>...</td>\n",
       "    </tr>\n",
       "    <tr>\n",
       "      <th>271</th>\n",
       "      <td>685</td>\n",
       "      <td>1</td>\n",
       "    </tr>\n",
       "    <tr>\n",
       "      <th>272</th>\n",
       "      <td>686</td>\n",
       "      <td>0</td>\n",
       "    </tr>\n",
       "    <tr>\n",
       "      <th>273</th>\n",
       "      <td>687</td>\n",
       "      <td>0</td>\n",
       "    </tr>\n",
       "    <tr>\n",
       "      <th>274</th>\n",
       "      <td>688</td>\n",
       "      <td>0</td>\n",
       "    </tr>\n",
       "    <tr>\n",
       "      <th>275</th>\n",
       "      <td>689</td>\n",
       "      <td>1</td>\n",
       "    </tr>\n",
       "  </tbody>\n",
       "</table>\n",
       "<p>276 rows × 2 columns</p>\n",
       "</div>"
      ],
      "text/plain": [
       "      id  target\n",
       "0    414       0\n",
       "1    415       0\n",
       "2    416       1\n",
       "3    417       0\n",
       "4    418       0\n",
       "..   ...     ...\n",
       "271  685       1\n",
       "272  686       0\n",
       "273  687       0\n",
       "274  688       0\n",
       "275  689       1\n",
       "\n",
       "[276 rows x 2 columns]"
      ]
     },
     "execution_count": 10,
     "metadata": {},
     "output_type": "execute_result"
    }
   ],
   "source": [
    "model = dtc(max_leaf_nodes=10)\n",
    "model.fit(X, y)\n",
    "vals = model.predict(test)\n",
    "vals = pd.DataFrame(vals)\n",
    "result = pd.merge(test_id, vals, left_index=True, right_index=True)\n",
    "result.columns=['id', 'target']\n",
    "result"
   ]
  },
  {
   "cell_type": "markdown",
   "id": "8e043745",
   "metadata": {
    "papermill": {
     "duration": 0.006419,
     "end_time": "2023-04-04T19:16:54.630372",
     "exception": false,
     "start_time": "2023-04-04T19:16:54.623953",
     "status": "completed"
    },
    "tags": []
   },
   "source": [
    "# Submission"
   ]
  },
  {
   "cell_type": "code",
   "execution_count": 11,
   "id": "ea4f9d71",
   "metadata": {
    "execution": {
     "iopub.execute_input": "2023-04-04T19:16:54.646042Z",
     "iopub.status.busy": "2023-04-04T19:16:54.645600Z",
     "iopub.status.idle": "2023-04-04T19:16:54.656588Z",
     "shell.execute_reply": "2023-04-04T19:16:54.655096Z"
    },
    "papermill": {
     "duration": 0.022174,
     "end_time": "2023-04-04T19:16:54.659447",
     "exception": false,
     "start_time": "2023-04-04T19:16:54.637273",
     "status": "completed"
    },
    "tags": []
   },
   "outputs": [],
   "source": [
    "result.to_csv(\"submission.csv\",index=False)"
   ]
  }
 ],
 "metadata": {
  "kernelspec": {
   "display_name": "Python 3",
   "language": "python",
   "name": "python3"
  },
  "language_info": {
   "codemirror_mode": {
    "name": "ipython",
    "version": 3
   },
   "file_extension": ".py",
   "mimetype": "text/x-python",
   "name": "python",
   "nbconvert_exporter": "python",
   "pygments_lexer": "ipython3",
   "version": "3.7.12"
  },
  "papermill": {
   "default_parameters": {},
   "duration": 14.684871,
   "end_time": "2023-04-04T19:16:55.489676",
   "environment_variables": {},
   "exception": null,
   "input_path": "__notebook__.ipynb",
   "output_path": "__notebook__.ipynb",
   "parameters": {},
   "start_time": "2023-04-04T19:16:40.804805",
   "version": "2.4.0"
  }
 },
 "nbformat": 4,
 "nbformat_minor": 5
}
